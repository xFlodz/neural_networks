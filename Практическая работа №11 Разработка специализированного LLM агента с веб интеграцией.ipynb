{
  "nbformat": 4,
  "nbformat_minor": 0,
  "metadata": {
    "colab": {
      "provenance": [],
      "gpuType": "T4",
      "include_colab_link": true
    },
    "kernelspec": {
      "name": "python3",
      "display_name": "Python 3"
    },
    "language_info": {
      "name": "python"
    },
    "accelerator": "GPU",
    "widgets": {
      "application/vnd.jupyter.widget-state+json": {
        "c2c4214a911f437db6b602eee1d954a5": {
          "model_module": "@jupyter-widgets/controls",
          "model_name": "HBoxModel",
          "model_module_version": "1.5.0",
          "state": {
            "_dom_classes": [],
            "_model_module": "@jupyter-widgets/controls",
            "_model_module_version": "1.5.0",
            "_model_name": "HBoxModel",
            "_view_count": null,
            "_view_module": "@jupyter-widgets/controls",
            "_view_module_version": "1.5.0",
            "_view_name": "HBoxView",
            "box_style": "",
            "children": [
              "IPY_MODEL_3117fad79c784b49a3a1645bf1698205",
              "IPY_MODEL_227aa35bc0634ea59d492a30b8e27c69",
              "IPY_MODEL_0e5ea52bd79045e08cc7dfd844afbcfb"
            ],
            "layout": "IPY_MODEL_f9ce673dd86440ef880c52b33a40d7e9"
          }
        },
        "3117fad79c784b49a3a1645bf1698205": {
          "model_module": "@jupyter-widgets/controls",
          "model_name": "HTMLModel",
          "model_module_version": "1.5.0",
          "state": {
            "_dom_classes": [],
            "_model_module": "@jupyter-widgets/controls",
            "_model_module_version": "1.5.0",
            "_model_name": "HTMLModel",
            "_view_count": null,
            "_view_module": "@jupyter-widgets/controls",
            "_view_module_version": "1.5.0",
            "_view_name": "HTMLView",
            "description": "",
            "description_tooltip": null,
            "layout": "IPY_MODEL_135940ab4bfa4abf8b328bbcfc7bb1c8",
            "placeholder": "​",
            "style": "IPY_MODEL_88c30368a04c4217b90b6ae8def70b58",
            "value": "Loading checkpoint shards: 100%"
          }
        },
        "227aa35bc0634ea59d492a30b8e27c69": {
          "model_module": "@jupyter-widgets/controls",
          "model_name": "FloatProgressModel",
          "model_module_version": "1.5.0",
          "state": {
            "_dom_classes": [],
            "_model_module": "@jupyter-widgets/controls",
            "_model_module_version": "1.5.0",
            "_model_name": "FloatProgressModel",
            "_view_count": null,
            "_view_module": "@jupyter-widgets/controls",
            "_view_module_version": "1.5.0",
            "_view_name": "ProgressView",
            "bar_style": "success",
            "description": "",
            "description_tooltip": null,
            "layout": "IPY_MODEL_8dfe27c72c614e4a8621df852020a59a",
            "max": 3,
            "min": 0,
            "orientation": "horizontal",
            "style": "IPY_MODEL_0dea5a8d384048d3a193cd8344cd7502",
            "value": 3
          }
        },
        "0e5ea52bd79045e08cc7dfd844afbcfb": {
          "model_module": "@jupyter-widgets/controls",
          "model_name": "HTMLModel",
          "model_module_version": "1.5.0",
          "state": {
            "_dom_classes": [],
            "_model_module": "@jupyter-widgets/controls",
            "_model_module_version": "1.5.0",
            "_model_name": "HTMLModel",
            "_view_count": null,
            "_view_module": "@jupyter-widgets/controls",
            "_view_module_version": "1.5.0",
            "_view_name": "HTMLView",
            "description": "",
            "description_tooltip": null,
            "layout": "IPY_MODEL_19e82e4d778d46db99bfda2260af6dd0",
            "placeholder": "​",
            "style": "IPY_MODEL_abbe4c6629994b7797dc04ba6fc1ae1b",
            "value": " 3/3 [01:08&lt;00:00, 22.68s/it]"
          }
        },
        "f9ce673dd86440ef880c52b33a40d7e9": {
          "model_module": "@jupyter-widgets/base",
          "model_name": "LayoutModel",
          "model_module_version": "1.2.0",
          "state": {
            "_model_module": "@jupyter-widgets/base",
            "_model_module_version": "1.2.0",
            "_model_name": "LayoutModel",
            "_view_count": null,
            "_view_module": "@jupyter-widgets/base",
            "_view_module_version": "1.2.0",
            "_view_name": "LayoutView",
            "align_content": null,
            "align_items": null,
            "align_self": null,
            "border": null,
            "bottom": null,
            "display": null,
            "flex": null,
            "flex_flow": null,
            "grid_area": null,
            "grid_auto_columns": null,
            "grid_auto_flow": null,
            "grid_auto_rows": null,
            "grid_column": null,
            "grid_gap": null,
            "grid_row": null,
            "grid_template_areas": null,
            "grid_template_columns": null,
            "grid_template_rows": null,
            "height": null,
            "justify_content": null,
            "justify_items": null,
            "left": null,
            "margin": null,
            "max_height": null,
            "max_width": null,
            "min_height": null,
            "min_width": null,
            "object_fit": null,
            "object_position": null,
            "order": null,
            "overflow": null,
            "overflow_x": null,
            "overflow_y": null,
            "padding": null,
            "right": null,
            "top": null,
            "visibility": null,
            "width": null
          }
        },
        "135940ab4bfa4abf8b328bbcfc7bb1c8": {
          "model_module": "@jupyter-widgets/base",
          "model_name": "LayoutModel",
          "model_module_version": "1.2.0",
          "state": {
            "_model_module": "@jupyter-widgets/base",
            "_model_module_version": "1.2.0",
            "_model_name": "LayoutModel",
            "_view_count": null,
            "_view_module": "@jupyter-widgets/base",
            "_view_module_version": "1.2.0",
            "_view_name": "LayoutView",
            "align_content": null,
            "align_items": null,
            "align_self": null,
            "border": null,
            "bottom": null,
            "display": null,
            "flex": null,
            "flex_flow": null,
            "grid_area": null,
            "grid_auto_columns": null,
            "grid_auto_flow": null,
            "grid_auto_rows": null,
            "grid_column": null,
            "grid_gap": null,
            "grid_row": null,
            "grid_template_areas": null,
            "grid_template_columns": null,
            "grid_template_rows": null,
            "height": null,
            "justify_content": null,
            "justify_items": null,
            "left": null,
            "margin": null,
            "max_height": null,
            "max_width": null,
            "min_height": null,
            "min_width": null,
            "object_fit": null,
            "object_position": null,
            "order": null,
            "overflow": null,
            "overflow_x": null,
            "overflow_y": null,
            "padding": null,
            "right": null,
            "top": null,
            "visibility": null,
            "width": null
          }
        },
        "88c30368a04c4217b90b6ae8def70b58": {
          "model_module": "@jupyter-widgets/controls",
          "model_name": "DescriptionStyleModel",
          "model_module_version": "1.5.0",
          "state": {
            "_model_module": "@jupyter-widgets/controls",
            "_model_module_version": "1.5.0",
            "_model_name": "DescriptionStyleModel",
            "_view_count": null,
            "_view_module": "@jupyter-widgets/base",
            "_view_module_version": "1.2.0",
            "_view_name": "StyleView",
            "description_width": ""
          }
        },
        "8dfe27c72c614e4a8621df852020a59a": {
          "model_module": "@jupyter-widgets/base",
          "model_name": "LayoutModel",
          "model_module_version": "1.2.0",
          "state": {
            "_model_module": "@jupyter-widgets/base",
            "_model_module_version": "1.2.0",
            "_model_name": "LayoutModel",
            "_view_count": null,
            "_view_module": "@jupyter-widgets/base",
            "_view_module_version": "1.2.0",
            "_view_name": "LayoutView",
            "align_content": null,
            "align_items": null,
            "align_self": null,
            "border": null,
            "bottom": null,
            "display": null,
            "flex": null,
            "flex_flow": null,
            "grid_area": null,
            "grid_auto_columns": null,
            "grid_auto_flow": null,
            "grid_auto_rows": null,
            "grid_column": null,
            "grid_gap": null,
            "grid_row": null,
            "grid_template_areas": null,
            "grid_template_columns": null,
            "grid_template_rows": null,
            "height": null,
            "justify_content": null,
            "justify_items": null,
            "left": null,
            "margin": null,
            "max_height": null,
            "max_width": null,
            "min_height": null,
            "min_width": null,
            "object_fit": null,
            "object_position": null,
            "order": null,
            "overflow": null,
            "overflow_x": null,
            "overflow_y": null,
            "padding": null,
            "right": null,
            "top": null,
            "visibility": null,
            "width": null
          }
        },
        "0dea5a8d384048d3a193cd8344cd7502": {
          "model_module": "@jupyter-widgets/controls",
          "model_name": "ProgressStyleModel",
          "model_module_version": "1.5.0",
          "state": {
            "_model_module": "@jupyter-widgets/controls",
            "_model_module_version": "1.5.0",
            "_model_name": "ProgressStyleModel",
            "_view_count": null,
            "_view_module": "@jupyter-widgets/base",
            "_view_module_version": "1.2.0",
            "_view_name": "StyleView",
            "bar_color": null,
            "description_width": ""
          }
        },
        "19e82e4d778d46db99bfda2260af6dd0": {
          "model_module": "@jupyter-widgets/base",
          "model_name": "LayoutModel",
          "model_module_version": "1.2.0",
          "state": {
            "_model_module": "@jupyter-widgets/base",
            "_model_module_version": "1.2.0",
            "_model_name": "LayoutModel",
            "_view_count": null,
            "_view_module": "@jupyter-widgets/base",
            "_view_module_version": "1.2.0",
            "_view_name": "LayoutView",
            "align_content": null,
            "align_items": null,
            "align_self": null,
            "border": null,
            "bottom": null,
            "display": null,
            "flex": null,
            "flex_flow": null,
            "grid_area": null,
            "grid_auto_columns": null,
            "grid_auto_flow": null,
            "grid_auto_rows": null,
            "grid_column": null,
            "grid_gap": null,
            "grid_row": null,
            "grid_template_areas": null,
            "grid_template_columns": null,
            "grid_template_rows": null,
            "height": null,
            "justify_content": null,
            "justify_items": null,
            "left": null,
            "margin": null,
            "max_height": null,
            "max_width": null,
            "min_height": null,
            "min_width": null,
            "object_fit": null,
            "object_position": null,
            "order": null,
            "overflow": null,
            "overflow_x": null,
            "overflow_y": null,
            "padding": null,
            "right": null,
            "top": null,
            "visibility": null,
            "width": null
          }
        },
        "abbe4c6629994b7797dc04ba6fc1ae1b": {
          "model_module": "@jupyter-widgets/controls",
          "model_name": "DescriptionStyleModel",
          "model_module_version": "1.5.0",
          "state": {
            "_model_module": "@jupyter-widgets/controls",
            "_model_module_version": "1.5.0",
            "_model_name": "DescriptionStyleModel",
            "_view_count": null,
            "_view_module": "@jupyter-widgets/base",
            "_view_module_version": "1.2.0",
            "_view_name": "StyleView",
            "description_width": ""
          }
        }
      }
    }
  },
  "cells": [
    {
      "cell_type": "markdown",
      "metadata": {
        "id": "view-in-github",
        "colab_type": "text"
      },
      "source": [
        "<a href=\"https://colab.research.google.com/github/xFlodz/neural_networks/blob/main/%D0%9F%D1%80%D0%B0%D0%BA%D1%82%D0%B8%D1%87%D0%B5%D1%81%D0%BA%D0%B0%D1%8F%20%D1%80%D0%B0%D0%B1%D0%BE%D1%82%D0%B0%20%E2%84%9611%20%D0%A0%D0%B0%D0%B7%D1%80%D0%B0%D0%B1%D0%BE%D1%82%D0%BA%D0%B0%20%D1%81%D0%BF%D0%B5%D1%86%D0%B8%D0%B0%D0%BB%D0%B8%D0%B7%D0%B8%D1%80%D0%BE%D0%B2%D0%B0%D0%BD%D0%BD%D0%BE%D0%B3%D0%BE%20LLM%20%D0%B0%D0%B3%D0%B5%D0%BD%D1%82%D0%B0%20%D1%81%20%D0%B2%D0%B5%D0%B1%20%D0%B8%D0%BD%D1%82%D0%B5%D0%B3%D1%80%D0%B0%D1%86%D0%B8%D0%B5%D0%B9.ipynb\" target=\"_parent\"><img src=\"https://colab.research.google.com/assets/colab-badge.svg\" alt=\"Open In Colab\"/></a>"
      ]
    },
    {
      "cell_type": "markdown",
      "source": [
        "# **Практическая работа №11. Разработка специализированного LLM-агента с веб-интеграцией**\n",
        "\n"
      ],
      "metadata": {
        "id": "rpzUalTi5pEH"
      }
    },
    {
      "cell_type": "markdown",
      "source": [
        "## **Цель задания**\n"
      ],
      "metadata": {
        "id": "RWoMHWsn5qpn"
      }
    },
    {
      "cell_type": "markdown",
      "source": [
        "Разработать узкоспециализированного интеллектуального агента на основе большой языковой модели (LLM) с возможностью получения данных из интернета и сохранения результатов работы в текстовом формате."
      ],
      "metadata": {
        "id": "0mNph7xz5rff"
      }
    },
    {
      "cell_type": "markdown",
      "source": [
        "## **Описание задания**\n"
      ],
      "metadata": {
        "id": "0x4lVuHC5t6P"
      }
    },
    {
      "cell_type": "markdown",
      "source": [
        "В рамках данной практической работы вам предстоит создать агента на базе LLM, который будет специализироваться на определенной предметной области (по вашему выбору). Агент должен уметь:\n",
        "1. Взаимодействовать с пользователем через чат-интерфейс\n",
        "2. Выполнять поиск актуальной информации в интернете посредством API TavilySearchResults\n",
        "3. Анализировать и обрабатывать полученные данные\n",
        "4. Формировать структурированные ответы на запросы пользователей\n",
        "5. Сохранять результаты взаимодействия в текстовый файл в удобочитаемом формате"
      ],
      "metadata": {
        "id": "mMmveaTh5vrS"
      }
    },
    {
      "cell_type": "markdown",
      "source": [
        "\n",
        "## **Требования к реализации**\n",
        "\n"
      ],
      "metadata": {
        "id": "wBZ6W1Fd50QH"
      }
    },
    {
      "cell_type": "markdown",
      "source": [
        "### 1. Архитектура агента\n"
      ],
      "metadata": {
        "id": "Zi0WrWs751EE"
      }
    },
    {
      "cell_type": "markdown",
      "source": [
        "- Определите узкую специализацию вашего агента (например, медицинский консультант, финансовый аналитик, юридический помощник, технический эксперт и т.д.)\n",
        "- Продумайте структуру промптов, обеспечивающую удержание агентом своей роли и выполнение целевых функций\n",
        "- Реализуйте механизм обработки запросов, учитывающий специфику выбранной предметной области"
      ],
      "metadata": {
        "id": "6O0gyVTW519G"
      }
    },
    {
      "cell_type": "markdown",
      "source": [
        "### 2. Интеграция с внешними источниками данных\n"
      ],
      "metadata": {
        "id": "d1Iw-u4Q54SX"
      }
    },
    {
      "cell_type": "markdown",
      "source": [
        "- Подключите инструмент TavilySearchResults для получения актуальной информации из сети\n",
        "- Реализуйте логику формирования поисковых запросов на основе пользовательских обращений\n",
        "- Обеспечьте корректную обработку и интеграцию результатов поиска в контекст беседы с пользователем\n",
        "- Документация по TavilySearchResults: [https://python.langchain.com/docs/integrations/tools/tavily_search](https://python.langchain.com/docs/integrations/tools/tavily_search)"
      ],
      "metadata": {
        "id": "4stauTN855XF"
      }
    },
    {
      "cell_type": "markdown",
      "source": [
        "### 3. Пользовательский интерфейс\n"
      ],
      "metadata": {
        "id": "ycuYbXKo57K6"
      }
    },
    {
      "cell_type": "markdown",
      "source": [
        "- Используйте компонент gr.Chatbot из библиотеки Gradio в качестве основы для интерфейса\n",
        "- Добавьте необходимые элементы управления (поле ввода, кнопки и т.д.)\n",
        "- Обеспечьте корректное отображение результатов поиска и ответов агента\n",
        "- Документация по Gradio: [https://www.gradio.app/docs/chatbot](https://www.gradio.app/docs/chatbot)"
      ],
      "metadata": {
        "id": "ZNPS6vYS574B"
      }
    },
    {
      "cell_type": "markdown",
      "source": [
        "### 4. Сохранение результатов\n"
      ],
      "metadata": {
        "id": "wzpZPU0U59sI"
      }
    },
    {
      "cell_type": "markdown",
      "source": [
        "- Реализуйте функционал для сохранения истории взаимодействия в текстовый файл\n",
        "- Обеспечьте форматирование выходного файла (структурирование диалога, выделение запросов и ответов)\n",
        "- Предусмотрите возможность выбора пользователем имени и расположения файла"
      ],
      "metadata": {
        "id": "VjjlJb9h5-r4"
      }
    },
    {
      "cell_type": "markdown",
      "source": [
        "\n",
        "## **Ход выполнения работы**"
      ],
      "metadata": {
        "id": "p5JPGkl87NSZ"
      }
    },
    {
      "cell_type": "markdown",
      "source": [
        "1. **Подготовительный этап**\n",
        "   - Установите необходимые библиотеки (LangChain, Gradio и др.)\n",
        "   - Получите API-ключи для доступа к языковой модели и TavilySearchResults\n",
        "   - Определите специализацию вашего агента и основные сценарии использования\n",
        "\n",
        "2. **Разработка ядра агента**\n",
        "   - Настройте базовую цепочку обработки запросов (можно реализовать с использованием [LangChain](https://python.langchain.com/docs/tutorials/rag/)*,  а можно просто прописать новое обращение к llm, включающее в себя ее прошлый ответ + дополнительный промт)\n",
        "   - Интегрируйте инструмент TavilySearchResults\n",
        "   - Разработайте систему промптов для специализации агента\n",
        "\n",
        "3. **Создание пользовательского интерфейса**\n",
        "   - Реализуйте чат-интерфейс на базе gr.Chatbot\n",
        "   - Добавьте элементы управления и настройте обработчики событий\n",
        "   - Обеспечьте отображение промежуточных результатов работы агента\n",
        "\n",
        "4. **Функционал сохранения**\n",
        "   - Разработайте механизм форматирования истории беседы\n",
        "   - Реализуйте функции для сохранения данных в текстовый файл\n",
        "   - Добавьте кнопку или другой элемент управления для активации сохранения\n",
        "\n",
        "5. **Тестирование и отладка**\n",
        "   - Проверьте работу агента на различных сценариях использования\n",
        "   - Убедитесь в корректности обработки запросов и формирования ответов\n",
        "   - Протестируйте сохранение результатов в файл\n",
        "\n",
        "\n",
        "   *[LangChain](https://python.langchain.com/docs/tutorials/rag/) - Фреймворк для разработки приложений на основе LLM, упрощающий создание цепочек обработки, управление памятью и интеграцию с различными компонентами.\n",
        "\n",
        "\n",
        "\n"
      ],
      "metadata": {
        "id": "8F8IsND95lIG"
      }
    },
    {
      "cell_type": "markdown",
      "source": [
        "## **Примечания**\n"
      ],
      "metadata": {
        "id": "EA148tES7TuB"
      }
    },
    {
      "cell_type": "markdown",
      "source": [
        "\n",
        "\n",
        "- При разработке промптов для специализации агента учитывайте особенности выбранной предметной области\n",
        "- Для повышения качества работы агента можно использовать техники \"chain-of-thought\" и \"retrieval-augmented generation\"\n",
        "- Обратите внимание на обработку ситуаций, когда поиск в интернете не дает релевантных результатов"
      ],
      "metadata": {
        "id": "g7JrYKG57S8N"
      }
    },
    {
      "cell_type": "code",
      "source": [
        "import gradio as gr\n",
        "from transformers import AutoModelForCausalLM, AutoTokenizer, pipeline\n",
        "import bitsandbytes\n",
        "import torch\n",
        "import datetime\n",
        "from tavily import TavilyClient\n",
        "import os\n",
        "from huggingface_hub import login\n",
        "from google.colab import userdata\n",
        "\n",
        "\n",
        "os.environ[\"TAVILY_API_KEY\"] = userdata.get('TAVILY_API_KEY')\n",
        "os.environ[\"HUGGINGFACE_API_KEY\"] = userdata.get('HUGGINGFACE_API_KEY')\n",
        "\n",
        "login(token=os.environ[\"HUGGINGFACE_API_KEY\"])"
      ],
      "metadata": {
        "id": "EA-KyoOd1OI7"
      },
      "execution_count": 16,
      "outputs": []
    },
    {
      "cell_type": "code",
      "source": [
        "model_name = \"mistralai/Mistral-7B-Instruct-v0.2\"\n",
        "tokenizer = AutoTokenizer.from_pretrained(model_name)\n",
        "model = AutoModelForCausalLM.from_pretrained(\n",
        "    model_name,\n",
        "    device_map=\"auto\",\n",
        "    torch_dtype=torch.float16,\n",
        "    load_in_4bit=True\n",
        ")"
      ],
      "metadata": {
        "id": "irjMF5pl1Q9j",
        "colab": {
          "base_uri": "https://localhost:8080/",
          "height": 87,
          "referenced_widgets": [
            "c2c4214a911f437db6b602eee1d954a5",
            "3117fad79c784b49a3a1645bf1698205",
            "227aa35bc0634ea59d492a30b8e27c69",
            "0e5ea52bd79045e08cc7dfd844afbcfb",
            "f9ce673dd86440ef880c52b33a40d7e9",
            "135940ab4bfa4abf8b328bbcfc7bb1c8",
            "88c30368a04c4217b90b6ae8def70b58",
            "8dfe27c72c614e4a8621df852020a59a",
            "0dea5a8d384048d3a193cd8344cd7502",
            "19e82e4d778d46db99bfda2260af6dd0",
            "abbe4c6629994b7797dc04ba6fc1ae1b"
          ]
        },
        "outputId": "f2e02719-b7fd-426e-acce-039aabc9c85a"
      },
      "execution_count": 17,
      "outputs": [
        {
          "output_type": "stream",
          "name": "stderr",
          "text": [
            "The `load_in_4bit` and `load_in_8bit` arguments are deprecated and will be removed in the future versions. Please, pass a `BitsAndBytesConfig` object in `quantization_config` argument instead.\n"
          ]
        },
        {
          "output_type": "display_data",
          "data": {
            "text/plain": [
              "Loading checkpoint shards:   0%|          | 0/3 [00:00<?, ?it/s]"
            ],
            "application/vnd.jupyter.widget-view+json": {
              "version_major": 2,
              "version_minor": 0,
              "model_id": "c2c4214a911f437db6b602eee1d954a5"
            }
          },
          "metadata": {}
        }
      ]
    },
    {
      "cell_type": "code",
      "source": [
        "\n",
        "tavily = TavilyClient(api_key=os.environ[\"TAVILY_API_KEY\"])\n",
        "\n",
        "THERAPIST_PROMPT = \"\"\"\n",
        "Ты — опытный психолог-консультант с более чем 20-летним стажем в индивидуальной и групповой терапии. Ты всегда отвечаешь на русском языке. Все слова на других языках переводи на русский\n",
        "Ты специализируешься на когнитивно-поведенческой терапии, эмоциональном интеллекте и ментальном благополучии.\n",
        "\n",
        "Твои особенности:\n",
        "1. Глубокие знания психологии и поведенческих наук\n",
        "2. Умение работать с тревожностью, стрессом, выгоранием, депрессией\n",
        "3. Эмпатия и деликатность в общении\n",
        "4. Умение находить подход к людям разного возраста и фона\n",
        "5. Владение техниками саморегуляции и mindfulness\n",
        "\n",
        "Твой стиль общения:\n",
        "- Уважительный и поддерживающий\n",
        "- Спокоен, внимателен и чуток\n",
        "- Помогаешь разобраться в чувствах и мыслях\n",
        "- Не даешь готовых решений, а направляешь к осознанным выводам\n",
        "- Используешь понятные примеры и метафоры\n",
        "\n",
        "Ты можешь:\n",
        "1. Помогать разобраться в сложных эмоциях и ситуациях\n",
        "2. Объяснять психологические механизмы\n",
        "3. Давать советы по снижению стресса и тревожности\n",
        "4. Подсказывать техники самопомощи\n",
        "5. Помогать развивать уверенность и самооценку\n",
        "6. Поддерживать в сложные периоды\n",
        "\n",
        "Начинай беседу с мягкого приветствия и предложи помощь в психологических вопросах.\n",
        "\"\"\"\n"
      ],
      "metadata": {
        "id": "YzDnFfAJ1T1I"
      },
      "execution_count": 23,
      "outputs": []
    },
    {
      "cell_type": "code",
      "source": [
        "def search_internet(query: str) -> dict:\n",
        "    try:\n",
        "        response = tavily.search(query=query, include_answer=True, search_depth=\"advanced\", include_raw_content=True)\n",
        "        return {\n",
        "            \"answer\": response.get(\"answer\", \"Не удалось найти информацию по данному запросу.\"),\n",
        "            \"sources\": [{\"url\": src[\"url\"], \"title\": src[\"title\"]} for src in response.get(\"results\", [])[:3]]\n",
        "        }\n",
        "    except Exception as e:\n",
        "        print(f\"Ошибка при поиске: {e}\")\n",
        "        return {\"answer\": \"Произошла ошибка при поиске информации.\", \"sources\": []}\n",
        "\n",
        "def generate_response(message: str, history: list, internet_search: bool = False) -> str:\n",
        "    chat_history = \"\\n\".join([f\"Клиент: {h[0]}\\nПсихолог: {h[1]}\" for h in history])\n",
        "    full_prompt = f\"{THERAPIST_PROMPT}\\n\\n{chat_history}\\nКлиент: {message}\\nПсихолог:\"\n",
        "\n",
        "    sources = []\n",
        "    if internet_search:\n",
        "        search_query = f\"Психология: {message}\"\n",
        "        search_result = search_internet(search_query)\n",
        "        sources = search_result[\"sources\"]\n",
        "        full_prompt += f\"\\n\\nКонтекст из интернета: {search_result['answer']}\\n\"\n",
        "\n",
        "    inputs = tokenizer(full_prompt, return_tensors=\"pt\").to(model.device)\n",
        "    outputs = model.generate(\n",
        "        **inputs,\n",
        "        max_new_tokens=512,\n",
        "        temperature=0.7,\n",
        "        do_sample=True,\n",
        "        top_p=0.9,\n",
        "        repetition_penalty=1.1\n",
        "    )\n",
        "\n",
        "    response = tokenizer.decode(outputs[0], skip_special_tokens=True)\n",
        "    response = response.split(\"Психолог:\")[-1].strip()\n",
        "\n",
        "    if sources:\n",
        "        response += \"\\n\\nИсточники:\\n\" + \"\\n\".join([f\"- [{src['title']}]({src['url']})\" for src in sources])\n",
        "\n",
        "    return response"
      ],
      "metadata": {
        "id": "YTPLCnZM1YRh"
      },
      "execution_count": 24,
      "outputs": []
    },
    {
      "cell_type": "code",
      "source": [
        "def save_chat_to_file(history: list, filename: str = None):\n",
        "    if filename is None:\n",
        "        now = datetime.datetime.now().strftime(\"%Y-%m-%d_%H-%M-%S\")\n",
        "        filename = f\"chat_history_{now}.txt\"\n",
        "\n",
        "    with open(filename, \"w\", encoding=\"utf-8\") as f:\n",
        "        f.write(\"История чата с психологом:\\n\\n\")\n",
        "        for i, (user_msg, bot_msg) in enumerate(history, 1):\n",
        "            f.write(f\"{i}. Клиент: {user_msg}\\n\")\n",
        "            f.write(f\"   Психолог: {bot_msg}\\n\\n\")\n",
        "\n",
        "    return filename"
      ],
      "metadata": {
        "id": "p0HWqTfO1bTi"
      },
      "execution_count": 25,
      "outputs": []
    },
    {
      "cell_type": "code",
      "source": [
        "def chat_interface(message: str, history: list, use_internet: bool) -> str:\n",
        "    response = generate_response(message, history, internet_search=use_internet)\n",
        "    return response\n",
        "\n",
        "with gr.Blocks(title=\"Психолог AI\") as demo:\n",
        "    gr.Markdown(\"Профессиональный психолог для решения ваших проблем\")\n",
        "\n",
        "    with gr.Row():\n",
        "        chatbot = gr.Chatbot(height=750, label=\"Чат с психологом\")\n",
        "\n",
        "    with gr.Row():\n",
        "        message = gr.Textbox(label=\"Ваш вопрос\", placeholder=\"Спросите о том, что вас беспокоит\")\n",
        "\n",
        "    with gr.Row():\n",
        "        submit = gr.Button(\"Отправить вопрос\")\n",
        "        clear = gr.Button(\"Очистить чат\")\n",
        "        internet_toggle = gr.Checkbox(label=\"Искать в интернете\", value=False)\n",
        "        save_btn = gr.Button(\"Сохранить чат\")\n",
        "\n",
        "    save_output = gr.Textbox(label=\"Сохранение чата\", visible=False)\n",
        "    save_success = gr.Markdown(\"\", visible=False)\n",
        "\n",
        "    def user(user_message, history):\n",
        "        return \"\", history + [[user_message, None]]\n",
        "\n",
        "    def bot(history, internet):\n",
        "        bot_message = chat_interface(history[-1][0], history[:-1], internet)\n",
        "        history[-1][1] = bot_message\n",
        "        return history\n",
        "\n",
        "    def save_chat(history):\n",
        "        if not history:\n",
        "            return {save_success: gr.Markdown(\"Нет истории для сохранения\", visible=True)}\n",
        "        filename = save_chat_to_file(history)\n",
        "        return {save_success: gr.Markdown(f\"Чат сохранен в файл: {filename}\", visible=True)}\n",
        "\n",
        "    message.submit(user, [message, chatbot], [message, chatbot], queue=False).then(\n",
        "        bot, [chatbot, internet_toggle], chatbot\n",
        "    )\n",
        "    submit.click(user, [message, chatbot], [message, chatbot], queue=False).then(\n",
        "        bot, [chatbot, internet_toggle], chatbot\n",
        "    )\n",
        "    clear.click(lambda: None, None, chatbot, queue=False)\n",
        "    save_btn.click(save_chat, inputs=[chatbot], outputs=[save_success])\n",
        "\n",
        "demo.launch(debug=True)"
      ],
      "metadata": {
        "id": "fJaoQmwm1eFc",
        "colab": {
          "base_uri": "https://localhost:8080/",
          "height": 708
        },
        "outputId": "7f84743d-5785-438f-9425-c1ce7abfaec5"
      },
      "execution_count": null,
      "outputs": [
        {
          "output_type": "stream",
          "name": "stderr",
          "text": [
            "<ipython-input-26-13e41aee3ead>:9: UserWarning: You have not specified a value for the `type` parameter. Defaulting to the 'tuples' format for chatbot messages, but this is deprecated and will be removed in a future version of Gradio. Please set type='messages' instead, which uses openai-style dictionaries with 'role' and 'content' keys.\n",
            "  chatbot = gr.Chatbot(height=750, label=\"Чат с психологом\")\n"
          ]
        },
        {
          "output_type": "stream",
          "name": "stdout",
          "text": [
            "It looks like you are running Gradio on a hosted a Jupyter notebook. For the Gradio app to work, sharing must be enabled. Automatically setting `share=True` (you can turn this off by setting `share=False` in `launch()` explicitly).\n",
            "\n",
            "Colab notebook detected. This cell will run indefinitely so that you can see errors and logs. To turn off, set debug=False in launch().\n",
            "* Running on public URL: https://0319f63cf344f96472.gradio.live\n",
            "\n",
            "This share link expires in 1 week. For free permanent hosting and GPU upgrades, run `gradio deploy` from the terminal in the working directory to deploy to Hugging Face Spaces (https://huggingface.co/spaces)\n"
          ]
        },
        {
          "output_type": "display_data",
          "data": {
            "text/plain": [
              "<IPython.core.display.HTML object>"
            ],
            "text/html": [
              "<div><iframe src=\"https://0319f63cf344f96472.gradio.live\" width=\"100%\" height=\"500\" allow=\"autoplay; camera; microphone; clipboard-read; clipboard-write;\" frameborder=\"0\" allowfullscreen></iframe></div>"
            ]
          },
          "metadata": {}
        },
        {
          "output_type": "stream",
          "name": "stderr",
          "text": [
            "Setting `pad_token_id` to `eos_token_id`:2 for open-end generation.\n"
          ]
        }
      ]
    },
    {
      "cell_type": "code",
      "source": [
        "!pip install -q transformers accelerate gradio langchain tavily-python bitsandbytes"
      ],
      "metadata": {
        "id": "WRuXVGTbTNKe",
        "colab": {
          "base_uri": "https://localhost:8080/"
        },
        "outputId": "e43df261-27c6-4327-90eb-b929a5d94118"
      },
      "execution_count": 1,
      "outputs": [
        {
          "output_type": "stream",
          "name": "stdout",
          "text": [
            "\u001b[2K   \u001b[90m━━━━━━━━━━━━━━━━━━━━━━━━━━━━━━━━━━━━━━━━\u001b[0m \u001b[32m54.1/54.1 MB\u001b[0m \u001b[31m13.7 MB/s\u001b[0m eta \u001b[36m0:00:00\u001b[0m\n",
            "\u001b[2K   \u001b[90m━━━━━━━━━━━━━━━━━━━━━━━━━━━━━━━━━━━━━━━━\u001b[0m \u001b[32m322.9/322.9 kB\u001b[0m \u001b[31m17.3 MB/s\u001b[0m eta \u001b[36m0:00:00\u001b[0m\n",
            "\u001b[2K   \u001b[90m━━━━━━━━━━━━━━━━━━━━━━━━━━━━━━━━━━━━━━━━\u001b[0m \u001b[32m76.1/76.1 MB\u001b[0m \u001b[31m7.4 MB/s\u001b[0m eta \u001b[36m0:00:00\u001b[0m\n",
            "\u001b[2K   \u001b[90m━━━━━━━━━━━━━━━━━━━━━━━━━━━━━━━━━━━━━━━━\u001b[0m \u001b[32m95.2/95.2 kB\u001b[0m \u001b[31m6.1 MB/s\u001b[0m eta \u001b[36m0:00:00\u001b[0m\n",
            "\u001b[2K   \u001b[90m━━━━━━━━━━━━━━━━━━━━━━━━━━━━━━━━━━━━━━━━\u001b[0m \u001b[32m11.5/11.5 MB\u001b[0m \u001b[31m44.5 MB/s\u001b[0m eta \u001b[36m0:00:00\u001b[0m\n",
            "\u001b[2K   \u001b[90m━━━━━━━━━━━━━━━━━━━━━━━━━━━━━━━━━━━━━━━━\u001b[0m \u001b[32m72.0/72.0 kB\u001b[0m \u001b[31m5.8 MB/s\u001b[0m eta \u001b[36m0:00:00\u001b[0m\n",
            "\u001b[2K   \u001b[90m━━━━━━━━━━━━━━━━━━━━━━━━━━━━━━━━━━━━━━━━\u001b[0m \u001b[32m1.2/1.2 MB\u001b[0m \u001b[31m53.1 MB/s\u001b[0m eta \u001b[36m0:00:00\u001b[0m\n",
            "\u001b[2K   \u001b[90m━━━━━━━━━━━━━━━━━━━━━━━━━━━━━━━━━━━━━━━━\u001b[0m \u001b[32m363.4/363.4 MB\u001b[0m \u001b[31m4.2 MB/s\u001b[0m eta \u001b[36m0:00:00\u001b[0m\n",
            "\u001b[2K   \u001b[90m━━━━━━━━━━━━━━━━━━━━━━━━━━━━━━━━━━━━━━━━\u001b[0m \u001b[32m13.8/13.8 MB\u001b[0m \u001b[31m117.0 MB/s\u001b[0m eta \u001b[36m0:00:00\u001b[0m\n",
            "\u001b[2K   \u001b[90m━━━━━━━━━━━━━━━━━━━━━━━━━━━━━━━━━━━━━━━━\u001b[0m \u001b[32m24.6/24.6 MB\u001b[0m \u001b[31m96.7 MB/s\u001b[0m eta \u001b[36m0:00:00\u001b[0m\n",
            "\u001b[2K   \u001b[90m━━━━━━━━━━━━━━━━━━━━━━━━━━━━━━━━━━━━━━━━\u001b[0m \u001b[32m883.7/883.7 kB\u001b[0m \u001b[31m57.3 MB/s\u001b[0m eta \u001b[36m0:00:00\u001b[0m\n",
            "\u001b[2K   \u001b[90m━━━━━━━━━━━━━━━━━━━━━━━━━━━━━━━━━━━━━━━━\u001b[0m \u001b[32m664.8/664.8 MB\u001b[0m \u001b[31m1.1 MB/s\u001b[0m eta \u001b[36m0:00:00\u001b[0m\n",
            "\u001b[2K   \u001b[90m━━━━━━━━━━━━━━━━━━━━━━━━━━━━━━━━━━━━━━━━\u001b[0m \u001b[32m211.5/211.5 MB\u001b[0m \u001b[31m6.3 MB/s\u001b[0m eta \u001b[36m0:00:00\u001b[0m\n",
            "\u001b[2K   \u001b[90m━━━━━━━━━━━━━━━━━━━━━━━━━━━━━━━━━━━━━━━━\u001b[0m \u001b[32m56.3/56.3 MB\u001b[0m \u001b[31m12.7 MB/s\u001b[0m eta \u001b[36m0:00:00\u001b[0m\n",
            "\u001b[2K   \u001b[90m━━━━━━━━━━━━━━━━━━━━━━━━━━━━━━━━━━━━━━━━\u001b[0m \u001b[32m127.9/127.9 MB\u001b[0m \u001b[31m7.5 MB/s\u001b[0m eta \u001b[36m0:00:00\u001b[0m\n",
            "\u001b[2K   \u001b[90m━━━━━━━━━━━━━━━━━━━━━━━━━━━━━━━━━━━━━━━━\u001b[0m \u001b[32m207.5/207.5 MB\u001b[0m \u001b[31m5.9 MB/s\u001b[0m eta \u001b[36m0:00:00\u001b[0m\n",
            "\u001b[2K   \u001b[90m━━━━━━━━━━━━━━━━━━━━━━━━━━━━━━━━━━━━━━━━\u001b[0m \u001b[32m21.1/21.1 MB\u001b[0m \u001b[31m103.2 MB/s\u001b[0m eta \u001b[36m0:00:00\u001b[0m\n",
            "\u001b[2K   \u001b[90m━━━━━━━━━━━━━━━━━━━━━━━━━━━━━━━━━━━━━━━━\u001b[0m \u001b[32m62.5/62.5 kB\u001b[0m \u001b[31m5.9 MB/s\u001b[0m eta \u001b[36m0:00:00\u001b[0m\n",
            "\u001b[?25h"
          ]
        }
      ]
    }
  ]
}